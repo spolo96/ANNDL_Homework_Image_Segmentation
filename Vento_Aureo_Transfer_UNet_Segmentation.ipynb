{
 "cells": [
  {
   "cell_type": "markdown",
   "metadata": {
    "colab_type": "text",
    "id": "gNXMy7SbdeAW"
   },
   "source": [
    "# Artificial Neural Networks and Deep Learning\n",
    "# Homework 2: Image Segmentation\n",
    "\n",
    "Students:\n",
    "\n",
    "*   Julián Jiménez: 10657117\n",
    "*   Samuel Polo: 10670388\n",
    "\n",
    "## Transfer Learning Approach:\n",
    "\n",
    "We first developed a simple test regarding the initial FCNN model and then proceeded to make some further improvements with preprocessing. After this, we decided to advance with the Transfer Learning approach, where we could use a successful pre-trained model in 2 ways: using fine tuning or using only the pre-trained weights.\n",
    "\n",
    "We also decided to implement the U-net architecture as it was described in class that it had excellent performance on the image segmentation task and further expanded on the basic encoder-decoder model that we had implemented before.\n",
    "\n",
    "For the contracting path we would use the downloaded model and we chose VGG19. Although it is not the best model in terms of accuracy or efficiency, we chose it as it is relatively simple with a low number of layers. This would allow us to go quickly through the model summary and pick out the outputs that we needed for the skip connections. Also the vgg19 model is very similar to the contracting path used in the u-net architecture so we believed that it would fit nicely within this architecture.\n",
    "\n",
    "We implemented the expanding path utilizing transpose convolutions, swapping them with upsampling layers, concatenation layers which allowed for the skip connections, batch normalization and further convolutions. We initially chose the upsampling layers as they reduced the number of trainable parameters and improved training time, but transpose convolutions increased performance as these extra parameters allowed the model to learn a more effective way of performing the expanding path.\n",
    "\n",
    "After successfully developing the U-net Model we proceeded to make an initial test with Transfer Learning, giving us a result of: 0.50850. Which improved in 119% our previous score with FCNN Model made from scratch.\n",
    "\n",
    "Our first test was to use Transfer Learning without Fine Tuning, as this would improve the training time and give us an idea of the performance of the model, using the pre-trained VGG19 Model along with its pre-processing function that was added to both training and validation images. \n",
    "\n",
    "Finally we decided to use fine tuning as we had the idea that the imagenet dataset was trained for a large number of classes of images, while in this problem we are only trying to recognize buildings. Thus we found it useful for the model to learn the weights for contracting the image and specialize more for the specific problem at hand. This approach indeed created better results for the model.\n",
    "\n",
    "Finally we experimented with other loss functions different to binary cross entropy, such as dice loss or a combination of the 2, but these led to lower performances.\n",
    "\n",
    "We trained all models initially for 50 epochs without early stopping, monitoring the validation loss. If the model looked promising we would do more sets of 50 or 20 epochs of training until we saw no decrease in the validation loss. For the generation of results we would restore the model to the weights it had when it obtained the lowest validation loss.\n",
    "\n",
    "\n",
    "Submited Tests, results without Fine Tuning:\n",
    "*   Transfer Learning, vgg10, u-net model, 100 epochs : 0.52050\n",
    "*   The previous model, 120 epochs: 0.52171\n",
    "\n",
    "Submitted Tests with Fine Tuning:\n",
    "*   Transfer Learning, vgg19, u-net model, 50 epochs: 0.58638\n",
    "*   The previous model, 100 epochs: 0.61936\n",
    "*   The previous model, 120 epochs: 0.62722\n",
    "*   The previous model, 150 epochs: 0.47974\n",
    "*   Transfer Learning, vgg19, u-net model, dice loss, 50 epochs: 0.53517\n",
    "\n",
    "References:\n",
    "\n",
    "* Ronneberger, Fischer, Brox. U-Net: Convolutional Networks for Biomedical Image Segmentation - https://arxiv.org/pdf/1505.04597.pdf\n",
    "* Simonyan, Zisserman. VGG19: VERY DEEP CONVOLUTIONAL NETWORKS FOR LARGE-SCALE IMAGE RECOGNITION - https://arxiv.org/pdf/1409.1556.pdf\n",
    "* Image segmentation tensorflow tutorial - https://www.tensorflow.org/tutorials/images/segmentation\n",
    "* Nieradzik. Losses for Image Segmentation - https://lars76.github.io/neural-networks/object-detection/losses-for-segmentation/\n"
   ]
  },
  {
   "cell_type": "code",
   "execution_count": 3,
   "metadata": {
    "colab": {
     "base_uri": "https://localhost:8080/",
     "height": 34
    },
    "colab_type": "code",
    "id": "5iP-AdkXXmoU",
    "outputId": "4848e80a-b0aa-43ea-9098-f19dec81c60b"
   },
   "outputs": [
    {
     "name": "stdout",
     "output_type": "stream",
     "text": [
      "2.1.0-rc1\n"
     ]
    }
   ],
   "source": [
    "%tensorflow_version 2.x\n",
    "import tensorflow as tf\n",
    "print(tf.__version__)"
   ]
  },
  {
   "cell_type": "code",
   "execution_count": 4,
   "metadata": {
    "colab": {
     "base_uri": "https://localhost:8080/",
     "height": 34
    },
    "colab_type": "code",
    "id": "y_y_VPDLupDq",
    "outputId": "780cfdaf-d8a3-40d7-ee62-d4bddeebe77b"
   },
   "outputs": [
    {
     "name": "stdout",
     "output_type": "stream",
     "text": [
      "Drive already mounted at /content/drive; to attempt to forcibly remount, call drive.mount(\"/content/drive\", force_remount=True).\n"
     ]
    }
   ],
   "source": [
    "# Code to bring data from MyGoogleDrive to Python Notebook.\n",
    "from google.colab import drive\n",
    "drive.mount('/content/drive')"
   ]
  },
  {
   "cell_type": "code",
   "execution_count": 0,
   "metadata": {
    "colab": {},
    "colab_type": "code",
    "id": "9ZVsNbq4eINQ"
   },
   "outputs": [],
   "source": [
    "import numpy as np\n",
    "import os"
   ]
  },
  {
   "cell_type": "code",
   "execution_count": 6,
   "metadata": {
    "colab": {
     "base_uri": "https://localhost:8080/",
     "height": 34
    },
    "colab_type": "code",
    "id": "A69w3uuGeUhK",
    "outputId": "0da56636-cc27-4741-e81e-68d2417fed94"
   },
   "outputs": [
    {
     "name": "stdout",
     "output_type": "stream",
     "text": [
      "/content\n"
     ]
    }
   ],
   "source": [
    "# Set the seed for random operations. \n",
    "# This allows our process to be reproducible. \n",
    "\n",
    "SEED = 1234\n",
    "tf.random.set_seed(SEED)\n",
    "np.random.seed(SEED)\n",
    "\n",
    "# Get current working directory\n",
    "cwd = os.getcwd()\n",
    "print(cwd)"
   ]
  },
  {
   "cell_type": "code",
   "execution_count": 0,
   "metadata": {
    "colab": {},
    "colab_type": "code",
    "id": "vQOzjsLpzM9h"
   },
   "outputs": [],
   "source": [
    "# Set the directories for all, training and validation images.\n",
    "\n",
    "dataset_dir = os.path.join(cwd, 'Segmentation_Dataset')\n",
    "training_dir = os.path.join(dataset_dir,'training')\n",
    "valid_dir = os.path.join(dataset_dir,'validation')"
   ]
  },
  {
   "cell_type": "markdown",
   "metadata": {
    "colab_type": "text",
    "id": "sa_3rfgO0Iz3"
   },
   "source": [
    "# **Validation Directory Creation**\n",
    "\n",
    "This code is used to create the validation directory and fill it up with images from all the classes. The validation set is created with stratified sampling since all classes are not represented equally in the given dataset. In this way from each class we select the same proportion of images. This is done to reduce sampling error and allow all classes to be represented in the validation set."
   ]
  },
  {
   "cell_type": "code",
   "execution_count": 0,
   "metadata": {
    "colab": {},
    "colab_type": "code",
    "id": "JRhcFbMS0VWN"
   },
   "outputs": [],
   "source": [
    "# Creates validation directory if it does not exist already.\n",
    "_ = os.makedirs(valid_dir, exist_ok=True)"
   ]
  },
  {
   "cell_type": "code",
   "execution_count": 0,
   "metadata": {
    "colab": {},
    "colab_type": "code",
    "id": "GcKKNr47_iDo"
   },
   "outputs": [],
   "source": [
    "# Proportion for Hold-out set validation.\n",
    "train_valid_split = 0.2\n",
    "\n",
    "# Fills the validation set \n",
    "subfolders = [f.path for f in os.scandir(training_dir) if f.is_dir() ] \n",
    "flag = True\n",
    "for subfold in subfolders:\n",
    "  head_tail = os.path.split(subfold)\n",
    "  _ = os.makedirs(os.path.join(valid_dir,head_tail[1],'img'), exist_ok=True)\n",
    "  list_files = [name for name in os.scandir(os.path.join(subfold,'img')) if os.path.isfile(name)]\n",
    "  num_files = len(list_files)\n",
    "  if flag:\n",
    "     rand = np.random.choice(num_files, int(num_files*train_valid_split) ,replace=False)\n",
    "     flag = False\n",
    "  for num in rand:\n",
    "    file_name = os.path.split(list_files[num])\n",
    "    os.rename(list_files[num],os.path.join(valid_dir,head_tail[1],'img',file_name[1]))"
   ]
  },
  {
   "cell_type": "code",
   "execution_count": 0,
   "metadata": {
    "colab": {},
    "colab_type": "code",
    "id": "k3Bl6fIhBbBv"
   },
   "outputs": [],
   "source": [
    "import json\n",
    "\n",
    "dataset_split = {}\n",
    "training_list = []\n",
    "list_files = [name for name in os.scandir(os.path.join(training_dir,'images','img')) if os.path.isfile(name)]\n",
    "for f in list_files:\n",
    "  file_name = os.path.split(f)\n",
    "  training_list.append(file_name[1])\n",
    "valid_list = []\n",
    "list_files = [name for name in os.scandir(os.path.join(valid_dir,'images','img')) if os.path.isfile(name)]\n",
    "for f in list_files:\n",
    "  file_name = os.path.split(f)\n",
    "  valid_list.append(file_name[1])\n",
    "\n",
    "dataset_split['training'] = training_list\n",
    "dataset_split['validation'] = valid_list\n",
    "\n",
    "with open('dataset_split.json', 'w') as fp:\n",
    "     json.dump(dataset_split, fp)"
   ]
  },
  {
   "cell_type": "markdown",
   "metadata": {
    "colab_type": "text",
    "id": "6_GnaMdJ0pnX"
   },
   "source": [
    "# **Training and Validation Generators and Datasets**"
   ]
  },
  {
   "cell_type": "code",
   "execution_count": 0,
   "metadata": {
    "colab": {},
    "colab_type": "code",
    "id": "wfO9kY5Reypf"
   },
   "outputs": [],
   "source": [
    "# ImageDataGenerator\n",
    "# ------------------\n",
    "\n",
    "from tensorflow.keras.preprocessing.image import ImageDataGenerator\n",
    "from tensorflow.keras.applications.vgg19 import preprocess_input\n",
    "\n",
    "apply_data_augmentation = True\n",
    "\n",
    "# Create training ImageDataGenerator object\n",
    "# We need two different generators for images and corresponding masks\n",
    "if apply_data_augmentation:\n",
    "    train_img_data_gen = ImageDataGenerator(rotation_range=10,\n",
    "                                            width_shift_range=10,\n",
    "                                            height_shift_range=10,\n",
    "                                            zoom_range=0.3,\n",
    "                                            horizontal_flip=True,\n",
    "                                            vertical_flip=True,\n",
    "                                            fill_mode='reflect',\n",
    "                                            rescale = 1./255,\n",
    "                                            preprocessing_function=preprocess_input) \n",
    "    train_mask_data_gen = ImageDataGenerator(rotation_range=10,\n",
    "                                             width_shift_range=10,\n",
    "                                             height_shift_range=10,\n",
    "                                             zoom_range=0.3,\n",
    "                                             horizontal_flip=True,\n",
    "                                             vertical_flip=True,\n",
    "                                             fill_mode='reflect',\n",
    "                                             rescale=1./255) \n",
    "# Use rescale=1./255 in the mask ImageDataGenerator to obtain binary values {0, 1} as target.\n",
    "else:\n",
    "    train_img_data_gen = ImageDataGenerator()\n",
    "    train_mask_data_gen = ImageDataGenerator(rescale=1./255)\n",
    "\n",
    "# Create validation and test ImageDataGenerator objects\n",
    "valid_img_data_gen = ImageDataGenerator(rescale = 1./255,preprocessing_function=preprocess_input)\n",
    "valid_mask_data_gen = ImageDataGenerator(rescale=1./255)"
   ]
  },
  {
   "cell_type": "code",
   "execution_count": 14,
   "metadata": {
    "colab": {
     "base_uri": "https://localhost:8080/",
     "height": 85
    },
    "colab_type": "code",
    "id": "C_K_GvGLgYKk",
    "outputId": "9b189ddd-896e-4923-d46a-b8eb7d027cf2"
   },
   "outputs": [
    {
     "name": "stdout",
     "output_type": "stream",
     "text": [
      "Found 6118 images belonging to 1 classes.\n",
      "Found 6118 images belonging to 1 classes.\n",
      "Found 1529 images belonging to 1 classes.\n",
      "Found 1529 images belonging to 1 classes.\n"
     ]
    }
   ],
   "source": [
    "# Create generators to read images from dataset directory\n",
    "# -------------------------------------------------------\n",
    "dataset_dir = os.path.join(cwd, 'Segmentation_Dataset')\n",
    "\n",
    "# Batch size\n",
    "bs = 24\n",
    "\n",
    "# img shape\n",
    "img_h = 256\n",
    "img_w = 256\n",
    "\n",
    "# Training\n",
    "# Two different generators for images and masks\n",
    "# ATTENTION: here the seed is important!! We have to give the same SEED to both the generator\n",
    "# to apply the same transformations/shuffling to images and corresponding masks\n",
    "training_dir = os.path.join(dataset_dir, 'training')\n",
    "train_img_gen = train_img_data_gen.flow_from_directory(os.path.join(training_dir, 'images'),\n",
    "                                                       target_size=(img_h, img_w),\n",
    "                                                       batch_size=bs, \n",
    "                                                       class_mode=None, # Because we have no class subfolders in this case\n",
    "                                                       shuffle=True,\n",
    "                                                       interpolation='bilinear',\n",
    "                                                       seed=SEED)  \n",
    "train_mask_gen = train_mask_data_gen.flow_from_directory(os.path.join(training_dir, 'masks'),\n",
    "                                                         target_size=(img_h, img_w),\n",
    "                                                         batch_size=bs,\n",
    "                                                         color_mode = 'grayscale',\n",
    "                                                         class_mode=None, # Because we have no class subfolders in this case\n",
    "                                                         shuffle=True,\n",
    "                                                         interpolation='bilinear',\n",
    "                                                         seed=SEED)\n",
    "train_gen = zip(train_img_gen, train_mask_gen)\n",
    "\n",
    "# Validation\n",
    "validation_dir = os.path.join(dataset_dir, 'validation')\n",
    "valid_img_gen = valid_img_data_gen.flow_from_directory(os.path.join(validation_dir, 'images'),\n",
    "                                                       target_size=(img_h, img_w),\n",
    "                                                       batch_size=bs, \n",
    "                                                       class_mode=None, # Because we have no class subfolders in this case\n",
    "                                                       shuffle=False,\n",
    "                                                       interpolation='bilinear',\n",
    "                                                       seed=SEED)\n",
    "valid_mask_gen = valid_mask_data_gen.flow_from_directory(os.path.join(validation_dir, 'masks'),\n",
    "                                                         target_size=(img_h, img_w),\n",
    "                                                         batch_size=bs, \n",
    "                                                         color_mode='grayscale',\n",
    "                                                         class_mode=None, # Because we have no class subfolders in this case\n",
    "                                                         shuffle=False,\n",
    "                                                         interpolation='bilinear',\n",
    "                                                         seed=SEED)\n",
    "valid_gen = zip(valid_img_gen, valid_mask_gen)"
   ]
  },
  {
   "cell_type": "code",
   "execution_count": 0,
   "metadata": {
    "colab": {},
    "colab_type": "code",
    "id": "ajpMINA1geCH"
   },
   "outputs": [],
   "source": [
    "# Create Dataset objects\n",
    "# ----------------------\n",
    "\n",
    "# Training\n",
    "# --------\n",
    "train_dataset = tf.data.Dataset.from_generator(lambda: train_gen,\n",
    "                                               output_types=(tf.float32, tf.float32),\n",
    "                                               output_shapes=([None, img_h, img_w, 3], [None, img_h, img_w, 1]))\n",
    "\n",
    "# We cast the masks to integer first to have 0,1 values\n",
    "# Then back to float in order to manipulate them with functions that require float\n",
    "\n",
    "def prepare_target(x_, y_):\n",
    "    y_ = tf.cast(y_, tf.int32)\n",
    "    y_ = tf.cast(y_, tf.float32)\n",
    "    return x_, y_\n",
    "\n",
    "train_dataset = train_dataset.map(prepare_target)\n",
    "\n",
    "# Repeat\n",
    "train_dataset = train_dataset.repeat()\n",
    "\n",
    "# Validation\n",
    "# ----------\n",
    "valid_dataset = tf.data.Dataset.from_generator(lambda: valid_gen, \n",
    "                                               output_types=(tf.float32, tf.float32),\n",
    "                                               output_shapes=([None, img_h, img_w, 3], [None, img_h, img_w, 1]))\n",
    "valid_dataset = valid_dataset.map(prepare_target)\n",
    "\n",
    "# Repeat\n",
    "valid_dataset = valid_dataset.repeat()"
   ]
  },
  {
   "cell_type": "code",
   "execution_count": 16,
   "metadata": {
    "colab": {
     "base_uri": "https://localhost:8080/",
     "height": 204
    },
    "colab_type": "code",
    "id": "5Ii-GWgbgiyA",
    "outputId": "1d434de5-fbfa-48c3-ac54-02bce5f7da6e"
   },
   "outputs": [
    {
     "data": {
      "image/png": "[encoded data removed]",
      "text/plain": [
       "<Figure size 432x288 with 2 Axes>"
      ]
     },
     "metadata": {
      "tags": []
     },
     "output_type": "display_data"
    }
   ],
   "source": [
    "# Testing data generator\n",
    "# -------------------------\n",
    "import time\n",
    "import matplotlib.pyplot as plt\n",
    "\n",
    "%matplotlib inline\n",
    "\n",
    "fig, ax = plt.subplots(1, 2)\n",
    "fig.show()\n",
    "\n",
    "# Assign a color to each class\n",
    "colors_dict = {}\n",
    "colors_dict[0] = [252, 186, 3]  # foreground\n",
    "colors_dict[1] = [0, 0, 0]  # background\n",
    "\n",
    "iterator = iter(train_dataset)\n",
    "\n",
    "for _ in range(100):\n",
    "    augmented_img, target = next(iterator)\n",
    "    augmented_img = augmented_img[0]   # First element\n",
    "    augmented_img = augmented_img * 255  # denormalize\n",
    "    \n",
    "    target = np.array(target[0, ..., 0])   # First element (squeezing channel dimension)\n",
    "    \n",
    "    # Assign colors for visualization\n",
    "    target_img = np.zeros([target.shape[0], target.shape[1], 3])\n",
    "    \n",
    "    target_img[np.where(target == 0)] = colors_dict[0]\n",
    "    target_img[np.where(target == 1)] = colors_dict[1]\n",
    "    \n",
    "    ax[0].imshow(np.uint8(augmented_img))\n",
    "    ax[1].imshow(np.uint8(target_img))\n",
    "    \n",
    "    fig.canvas.draw()\n",
    "    time.sleep(1)"
   ]
  },
  {
   "cell_type": "markdown",
   "metadata": {
    "colab_type": "text",
    "id": "lmCMGk9rgpli"
   },
   "source": [
    "# Model\n",
    "\n"
   ]
  },
  {
   "cell_type": "markdown",
   "metadata": {
    "colab_type": "text",
    "id": "FuxTDa4kCXRP"
   },
   "source": [
    "## Transfer Learning"
   ]
  },
  {
   "cell_type": "code",
   "execution_count": 17,
   "metadata": {
    "colab": {
     "base_uri": "https://localhost:8080/",
     "height": 935
    },
    "colab_type": "code",
    "id": "pn16g5XbuDx9",
    "outputId": "fc85e8df-4f0a-4acf-a43d-3524bd7d8ee7"
   },
   "outputs": [
    {
     "name": "stdout",
     "output_type": "stream",
     "text": [
      "Downloading data from https://github.com/fchollet/deep-learning-models/releases/download/v0.1/vgg19_weights_tf_dim_ordering_tf_kernels_notop.h5\n",
      "80142336/80134624 [==============================] - 2s 0us/step\n",
      "Model: \"vgg19\"\n",
      "_________________________________________________________________\n",
      "Layer (type)                 Output Shape              Param #   \n",
      "=================================================================\n",
      "input_1 (InputLayer)         [(None, 256, 256, 3)]     0         \n",
      "_________________________________________________________________\n",
      "block1_conv1 (Conv2D)        (None, 256, 256, 64)      1792      \n",
      "_________________________________________________________________\n",
      "block1_conv2 (Conv2D)        (None, 256, 256, 64)      36928     \n",
      "_________________________________________________________________\n",
      "block1_pool (MaxPooling2D)   (None, 128, 128, 64)      0         \n",
      "_________________________________________________________________\n",
      "block2_conv1 (Conv2D)        (None, 128, 128, 128)     73856     \n",
      "_________________________________________________________________\n",
      "block2_conv2 (Conv2D)        (None, 128, 128, 128)     147584    \n",
      "_________________________________________________________________\n",
      "block2_pool (MaxPooling2D)   (None, 64, 64, 128)       0         \n",
      "_________________________________________________________________\n",
      "block3_conv1 (Conv2D)        (None, 64, 64, 256)       295168    \n",
      "_________________________________________________________________\n",
      "block3_conv2 (Conv2D)        (None, 64, 64, 256)       590080    \n",
      "_________________________________________________________________\n",
      "block3_conv3 (Conv2D)        (None, 64, 64, 256)       590080    \n",
      "_________________________________________________________________\n",
      "block3_conv4 (Conv2D)        (None, 64, 64, 256)       590080    \n",
      "_________________________________________________________________\n",
      "block3_pool (MaxPooling2D)   (None, 32, 32, 256)       0         \n",
      "_________________________________________________________________\n",
      "block4_conv1 (Conv2D)        (None, 32, 32, 512)       1180160   \n",
      "_________________________________________________________________\n",
      "block4_conv2 (Conv2D)        (None, 32, 32, 512)       2359808   \n",
      "_________________________________________________________________\n",
      "block4_conv3 (Conv2D)        (None, 32, 32, 512)       2359808   \n",
      "_________________________________________________________________\n",
      "block4_conv4 (Conv2D)        (None, 32, 32, 512)       2359808   \n",
      "_________________________________________________________________\n",
      "block4_pool (MaxPooling2D)   (None, 16, 16, 512)       0         \n",
      "_________________________________________________________________\n",
      "block5_conv1 (Conv2D)        (None, 16, 16, 512)       2359808   \n",
      "_________________________________________________________________\n",
      "block5_conv2 (Conv2D)        (None, 16, 16, 512)       2359808   \n",
      "_________________________________________________________________\n",
      "block5_conv3 (Conv2D)        (None, 16, 16, 512)       2359808   \n",
      "_________________________________________________________________\n",
      "block5_conv4 (Conv2D)        (None, 16, 16, 512)       2359808   \n",
      "_________________________________________________________________\n",
      "block5_pool (MaxPooling2D)   (None, 8, 8, 512)         0         \n",
      "=================================================================\n",
      "Total params: 20,024,384\n",
      "Trainable params: 20,024,384\n",
      "Non-trainable params: 0\n",
      "_________________________________________________________________\n"
     ]
    }
   ],
   "source": [
    "# Base Model\n",
    "# -----------\n",
    "\n",
    "img_h = 256\n",
    "img_w = 256\n",
    "\n",
    "#Downloading model: For this task we decided to use vgg19\n",
    "#We do not include the fully connected layer\n",
    "\n",
    "base_model = tf.keras.applications.vgg19.VGG19(weights='imagenet', include_top=False, input_shape=(img_h, img_w, 3),pooling='None')\n",
    "base_model.summary()"
   ]
  },
  {
   "cell_type": "code",
   "execution_count": 0,
   "metadata": {
    "colab": {},
    "colab_type": "code",
    "id": "l5r28iOcp0fR"
   },
   "outputs": [],
   "source": [
    "# Layers from which we are going to extract the output to use for the skip connections.\n",
    "# The names are extracted from the above summary of the downloaded model\n",
    "\n",
    "layer_names = [\n",
    "    'block1_conv2',   # 256x256\n",
    "    'block2_conv2',   # 128x128\n",
    "    'block3_conv4',   # 64x64\n",
    "    'block4_conv4',  # 32x32\n",
    "    'block5_conv4',  # 16x16\n",
    "    'block5_pool', #8x8\n",
    "    ]\n",
    "  \n",
    "layers = [base_model.get_layer(name).output for name in layer_names]\n",
    "\n",
    "# Create the feature extraction model\n",
    "down_stack = tf.keras.Model(inputs=base_model.input, outputs=layers)\n",
    "\n",
    "# Fine Tuning\n",
    "down_stack.trainable = True"
   ]
  },
  {
   "cell_type": "markdown",
   "metadata": {
    "colab_type": "text",
    "id": "iFksLTLbCcsJ"
   },
   "source": [
    "## U-Net Model"
   ]
  },
  {
   "cell_type": "code",
   "execution_count": 0,
   "metadata": {
    "colab": {},
    "colab_type": "code",
    "id": "mDno0Xvu4rRq"
   },
   "outputs": [],
   "source": [
    "def unet_model(depth, start_f, num_classes, transpose):\n",
    "\n",
    "  inputs = tf.keras.layers.Input(shape=[img_h, img_w, 3])\n",
    "  ini = inputs\n",
    "\n",
    "  # Contracting Path: vgg19 model\n",
    "  skips = down_stack(ini)\n",
    "  latent = skips[-1] # Last output of contracting path\n",
    "  skips = skips[::-1] # Reverse outputs for use in expansive path\n",
    "\n",
    "  # Further convolutions on last output to increase channels\n",
    "  latent = tf.keras.layers.Conv2D(filters=start_f,\n",
    "                                         kernel_size=(3, 3),\n",
    "                                         strides=(1, 1),\n",
    "                                         padding='same',\n",
    "                                         activation = 'relu')(latent)\n",
    "  latent = tf.keras.layers.Conv2D(filters=start_f,\n",
    "                                         kernel_size=(3, 3),\n",
    "                                         strides=(1, 1),\n",
    "                                         padding='same',\n",
    "                                         activation = 'relu')(latent)\n",
    "                                        \n",
    "  start_f = start_f//2\n",
    "\n",
    "  # Expanding Path\n",
    "  # 1. Transpose Convolution or Upsampling\n",
    "  # 2. Concatenation\n",
    "  # 3. Batch Normalization\n",
    "  # 4. 2 Convolutions\n",
    "  for i in range(1,depth):\n",
    "    if transpose == True:\n",
    "      up = tf.keras.layers.Conv2DTranspose(filters=start_f,\n",
    "                                          kernel_size=(2, 2),\n",
    "                                          strides=(2, 2),\n",
    "                                          padding='same',\n",
    "                                          activation = 'relu')(latent)\n",
    "    if transpose == False:\n",
    "      up = tf.keras.layers.UpSampling2D(2, interpolation='bilinear')(latent)\n",
    "    up = tf.keras.layers.Concatenate()([up,skips[i]])\n",
    "    up = tf.keras.layers.BatchNormalization()(up)\n",
    "    latent = tf.keras.layers.Conv2D(filters=start_f,\n",
    "                                         kernel_size=(3, 3),\n",
    "                                         strides=(1, 1),\n",
    "                                         padding='same',\n",
    "                                         activation = 'relu')(up)\n",
    "    latent = tf.keras.layers.Conv2D(filters=start_f,\n",
    "                                         kernel_size=(3, 3),\n",
    "                                         strides=(1, 1),\n",
    "                                         padding='same',\n",
    "                                         activation = 'relu')(latent)                                     \n",
    "    if i != 1:\n",
    "      start_f = start_f // 2\n",
    "\n",
    "  # Final prediction layer, sigmoid activation function used\n",
    "                                         \n",
    "  prediction = tf.keras.layers.Conv2D(filters=num_classes,\n",
    "                                     kernel_size=(1, 1),\n",
    "                                     strides=(1, 1),\n",
    "                                     padding='same',\n",
    "                                     activation='sigmoid')(latent)\n",
    "\n",
    "  return tf.keras.Model(inputs=inputs, outputs=prediction)"
   ]
  },
  {
   "cell_type": "code",
   "execution_count": 60,
   "metadata": {
    "colab": {
     "base_uri": "https://localhost:8080/",
     "height": 1000
    },
    "colab_type": "code",
    "id": "6F7AhFgLg6k6",
    "outputId": "a69b6e06-d0f8-4fcb-85a5-b79e99720bee"
   },
   "outputs": [
    {
     "name": "stdout",
     "output_type": "stream",
     "text": [
      "Model: \"model_3\"\n",
      "__________________________________________________________________________________________________\n",
      "Layer (type)                    Output Shape         Param #     Connected to                     \n",
      "==================================================================================================\n",
      "input_4 (InputLayer)            [(None, 256, 256, 3) 0                                            \n",
      "__________________________________________________________________________________________________\n",
      "model (Model)                   [(None, 256, 256, 64 20024384    input_4[0][0]                    \n",
      "__________________________________________________________________________________________________\n",
      "conv2d_26 (Conv2D)              (None, 8, 8, 1024)   4719616     model[3][5]                      \n",
      "__________________________________________________________________________________________________\n",
      "conv2d_27 (Conv2D)              (None, 8, 8, 1024)   9438208     conv2d_26[0][0]                  \n",
      "__________________________________________________________________________________________________\n",
      "conv2d_transpose_10 (Conv2DTran (None, 16, 16, 512)  2097664     conv2d_27[0][0]                  \n",
      "__________________________________________________________________________________________________\n",
      "concatenate_10 (Concatenate)    (None, 16, 16, 1024) 0           conv2d_transpose_10[0][0]        \n",
      "                                                                 model[3][4]                      \n",
      "__________________________________________________________________________________________________\n",
      "batch_normalization_10 (BatchNo (None, 16, 16, 1024) 4096        concatenate_10[0][0]             \n",
      "__________________________________________________________________________________________________\n",
      "conv2d_28 (Conv2D)              (None, 16, 16, 512)  4719104     batch_normalization_10[0][0]     \n",
      "__________________________________________________________________________________________________\n",
      "conv2d_29 (Conv2D)              (None, 16, 16, 512)  2359808     conv2d_28[0][0]                  \n",
      "__________________________________________________________________________________________________\n",
      "conv2d_transpose_11 (Conv2DTran (None, 32, 32, 512)  1049088     conv2d_29[0][0]                  \n",
      "__________________________________________________________________________________________________\n",
      "concatenate_11 (Concatenate)    (None, 32, 32, 1024) 0           conv2d_transpose_11[0][0]        \n",
      "                                                                 model[3][3]                      \n",
      "__________________________________________________________________________________________________\n",
      "batch_normalization_11 (BatchNo (None, 32, 32, 1024) 4096        concatenate_11[0][0]             \n",
      "__________________________________________________________________________________________________\n",
      "conv2d_30 (Conv2D)              (None, 32, 32, 512)  4719104     batch_normalization_11[0][0]     \n",
      "__________________________________________________________________________________________________\n",
      "conv2d_31 (Conv2D)              (None, 32, 32, 512)  2359808     conv2d_30[0][0]                  \n",
      "__________________________________________________________________________________________________\n",
      "conv2d_transpose_12 (Conv2DTran (None, 64, 64, 256)  524544      conv2d_31[0][0]                  \n",
      "__________________________________________________________________________________________________\n",
      "concatenate_12 (Concatenate)    (None, 64, 64, 512)  0           conv2d_transpose_12[0][0]        \n",
      "                                                                 model[3][2]                      \n",
      "__________________________________________________________________________________________________\n",
      "batch_normalization_12 (BatchNo (None, 64, 64, 512)  2048        concatenate_12[0][0]             \n",
      "__________________________________________________________________________________________________\n",
      "conv2d_32 (Conv2D)              (None, 64, 64, 256)  1179904     batch_normalization_12[0][0]     \n",
      "__________________________________________________________________________________________________\n",
      "conv2d_33 (Conv2D)              (None, 64, 64, 256)  590080      conv2d_32[0][0]                  \n",
      "__________________________________________________________________________________________________\n",
      "conv2d_transpose_13 (Conv2DTran (None, 128, 128, 128 131200      conv2d_33[0][0]                  \n",
      "__________________________________________________________________________________________________\n",
      "concatenate_13 (Concatenate)    (None, 128, 128, 256 0           conv2d_transpose_13[0][0]        \n",
      "                                                                 model[3][1]                      \n",
      "__________________________________________________________________________________________________\n",
      "batch_normalization_13 (BatchNo (None, 128, 128, 256 1024        concatenate_13[0][0]             \n",
      "__________________________________________________________________________________________________\n",
      "conv2d_34 (Conv2D)              (None, 128, 128, 128 295040      batch_normalization_13[0][0]     \n",
      "__________________________________________________________________________________________________\n",
      "conv2d_35 (Conv2D)              (None, 128, 128, 128 147584      conv2d_34[0][0]                  \n",
      "__________________________________________________________________________________________________\n",
      "conv2d_transpose_14 (Conv2DTran (None, 256, 256, 64) 32832       conv2d_35[0][0]                  \n",
      "__________________________________________________________________________________________________\n",
      "concatenate_14 (Concatenate)    (None, 256, 256, 128 0           conv2d_transpose_14[0][0]        \n",
      "                                                                 model[3][0]                      \n",
      "__________________________________________________________________________________________________\n",
      "batch_normalization_14 (BatchNo (None, 256, 256, 128 512         concatenate_14[0][0]             \n",
      "__________________________________________________________________________________________________\n",
      "conv2d_36 (Conv2D)              (None, 256, 256, 64) 73792       batch_normalization_14[0][0]     \n",
      "__________________________________________________________________________________________________\n",
      "conv2d_37 (Conv2D)              (None, 256, 256, 64) 36928       conv2d_36[0][0]                  \n",
      "__________________________________________________________________________________________________\n",
      "conv2d_38 (Conv2D)              (None, 256, 256, 1)  65          conv2d_37[0][0]                  \n",
      "==================================================================================================\n",
      "Total params: 54,510,529\n",
      "Trainable params: 54,504,641\n",
      "Non-trainable params: 5,888\n",
      "__________________________________________________________________________________________________\n"
     ]
    }
   ],
   "source": [
    "model = unet_model(depth=6, \n",
    "                     start_f=1024, \n",
    "                     num_classes=1,\n",
    "                   transpose=True)\n",
    "\n",
    "# Visualize created model as a table\n",
    "model.summary()\n"
   ]
  },
  {
   "cell_type": "markdown",
   "metadata": {
    "colab_type": "text",
    "id": "EqIT9VbMg8ow"
   },
   "source": [
    "# Training"
   ]
  },
  {
   "cell_type": "markdown",
   "metadata": {
    "colab_type": "text",
    "id": "nszLyaJCZT3g"
   },
   "source": [
    "## **Intersection of Union (IoU) Metric for Validation**\n",
    "We use the following metric to monitor the model performance while it is being trained."
   ]
  },
  {
   "cell_type": "code",
   "execution_count": 0,
   "metadata": {
    "colab": {},
    "colab_type": "code",
    "id": "-O55u7A8Ysdt"
   },
   "outputs": [],
   "source": [
    "def my_IoU(y_true, y_pred):\n",
    "    # from probability to predicted class {0, 1}\n",
    "    y_pred = tf.cast(y_pred > 0.5, tf.float32)\n",
    "    \n",
    "    \n",
    "    # A and B\n",
    "    intersection = tf.reduce_sum(y_true * y_pred)\n",
    "    # A or B\n",
    "    union = tf.reduce_sum(y_true) + tf.reduce_sum(y_pred) - intersection\n",
    "    # IoU\n",
    "    return intersection / union"
   ]
  },
  {
   "cell_type": "markdown",
   "metadata": {
    "colab_type": "text",
    "id": "hYM2tmH2Zlv4"
   },
   "source": [
    "## **Optimization Parameters**"
   ]
  },
  {
   "cell_type": "code",
   "execution_count": 0,
   "metadata": {
    "colab": {},
    "colab_type": "code",
    "id": "6PmYqFKYhCui"
   },
   "outputs": [],
   "source": [
    "# Optimization params\n",
    "# -------------------\n",
    "\n",
    "# Loss\n",
    "# Binary Cross Entropy as we are using sigmoid activation for the final prediction layer\n",
    "loss = tf.keras.losses.BinaryCrossentropy(from_logits=False)\n",
    "\n",
    "# Alternative loss function that is a combination of binary cross entropy and dice loss.\n",
    "# Taken from: Nieradzik. Losses for Image Segmentation - https://lars76.github.io/neural-networks/object-detection/losses-for-segmentation/\n",
    "def custom_loss(y_true, y_pred):\n",
    "    def dice_loss(y_true, y_pred):\n",
    "        numerator = 2. * tf.reduce_sum(y_true * y_pred, axis=(1,2,3))\n",
    "        denominator = tf.reduce_sum(y_true + y_pred, axis=(1,2,3))\n",
    "\n",
    "        return tf.reshape(1. - numerator / denominator, (-1, 1, 1))\n",
    "\n",
    "    return tf.keras.losses.binary_crossentropy(y_true, y_pred) + dice_loss(y_true, y_pred)\n",
    "\n",
    "# learning rate\n",
    "lr = 1e-3\n",
    "optimizer = tf.keras.optimizers.Adam(learning_rate=lr)\n",
    "# -------------------\n",
    "\n",
    "# Validation metrics\n",
    "# ------------------\n",
    "metrics = [my_IoU]\n",
    "# ------------------\n",
    "\n",
    "# Compile Model\n",
    "model.compile(optimizer=optimizer, loss=loss, metrics=metrics)"
   ]
  },
  {
   "cell_type": "markdown",
   "metadata": {
    "colab_type": "text",
    "id": "llwsIT-ihGou"
   },
   "source": [
    "## **Training with callbacks**"
   ]
  },
  {
   "cell_type": "code",
   "execution_count": 63,
   "metadata": {
    "colab": {
     "base_uri": "https://localhost:8080/",
     "height": 714
    },
    "colab_type": "code",
    "id": "rzguHxP_hFm9",
    "outputId": "78db6faf-1a67-4de5-f782-af9af96fe6fe"
   },
   "outputs": [
    {
     "name": "stdout",
     "output_type": "stream",
     "text": [
      "Train for 255 steps, validate for 64 steps\n",
      "Epoch 1/20\n",
      "255/255 [==============================] - 202s 790ms/step - loss: 0.2577 - my_IoU: 0.6977 - val_loss: 22.2748 - val_my_IoU: 0.7017\n",
      "Epoch 2/20\n",
      "255/255 [==============================] - 199s 781ms/step - loss: 0.2407 - my_IoU: 0.7172 - val_loss: 0.2451 - val_my_IoU: 0.7266\n",
      "Epoch 3/20\n",
      "255/255 [==============================] - 199s 781ms/step - loss: 0.2360 - my_IoU: 0.7234 - val_loss: 0.2411 - val_my_IoU: 0.7143\n",
      "Epoch 4/20\n",
      "255/255 [==============================] - 197s 772ms/step - loss: 0.2339 - my_IoU: 0.7221 - val_loss: 0.2499 - val_my_IoU: 0.7206\n",
      "Epoch 5/20\n",
      "255/255 [==============================] - 199s 779ms/step - loss: 0.2256 - my_IoU: 0.7312 - val_loss: 0.2329 - val_my_IoU: 0.7229\n",
      "Epoch 6/20\n",
      "255/255 [==============================] - 197s 772ms/step - loss: 0.2252 - my_IoU: 0.7327 - val_loss: 0.2666 - val_my_IoU: 0.6745\n",
      "Epoch 7/20\n",
      "255/255 [==============================] - 199s 782ms/step - loss: 0.2221 - my_IoU: 0.7388 - val_loss: 0.2289 - val_my_IoU: 0.7341\n",
      "Epoch 8/20\n",
      "255/255 [==============================] - 197s 772ms/step - loss: 0.2210 - my_IoU: 0.7372 - val_loss: 0.2612 - val_my_IoU: 0.7425\n",
      "Epoch 9/20\n",
      "255/255 [==============================] - 199s 781ms/step - loss: 0.2204 - my_IoU: 0.7382 - val_loss: 0.2236 - val_my_IoU: 0.7355\n",
      "Epoch 10/20\n",
      "255/255 [==============================] - 199s 781ms/step - loss: 0.2198 - my_IoU: 0.7375 - val_loss: 0.2123 - val_my_IoU: 0.7533\n",
      "Epoch 11/20\n",
      "255/255 [==============================] - 197s 772ms/step - loss: 0.2189 - my_IoU: 0.7444 - val_loss: 0.2258 - val_my_IoU: 0.7334\n",
      "Epoch 12/20\n",
      "255/255 [==============================] - 201s 788ms/step - loss: 0.2089 - my_IoU: 0.7510 - val_loss: 0.2101 - val_my_IoU: 0.7539\n",
      "Epoch 13/20\n",
      "255/255 [==============================] - 197s 773ms/step - loss: 0.2159 - my_IoU: 0.7482 - val_loss: 0.2139 - val_my_IoU: 0.7482\n",
      "Epoch 14/20\n",
      "255/255 [==============================] - 197s 773ms/step - loss: 0.2097 - my_IoU: 0.7503 - val_loss: 0.2378 - val_my_IoU: 0.7312\n",
      "Epoch 15/20\n",
      "255/255 [==============================] - 197s 774ms/step - loss: 0.2131 - my_IoU: 0.7480 - val_loss: 0.2297 - val_my_IoU: 0.7410\n",
      "Epoch 16/20\n",
      "255/255 [==============================] - 197s 774ms/step - loss: 0.2144 - my_IoU: 0.7461 - val_loss: 0.2410 - val_my_IoU: 0.7262\n",
      "Epoch 17/20\n",
      "255/255 [==============================] - 197s 773ms/step - loss: 0.2130 - my_IoU: 0.7481 - val_loss: 0.4070 - val_my_IoU: 0.7362\n",
      "Epoch 18/20\n",
      "255/255 [==============================] - 197s 774ms/step - loss: 0.2077 - my_IoU: 0.7554 - val_loss: 0.2557 - val_my_IoU: 0.7226\n",
      "Epoch 19/20\n",
      "255/255 [==============================] - 197s 774ms/step - loss: 0.2118 - my_IoU: 0.7481 - val_loss: 0.2255 - val_my_IoU: 0.7375\n",
      "Epoch 20/20\n",
      "255/255 [==============================] - 197s 773ms/step - loss: 0.2094 - my_IoU: 0.7515 - val_loss: 0.2426 - val_my_IoU: 0.7306\n"
     ]
    }
   ],
   "source": [
    "import os\n",
    "from datetime import datetime\n",
    "\n",
    "cwd = os.getcwd()\n",
    "\n",
    "exps_dir = os.path.join(cwd, 'segmentation_experiments')\n",
    "if not os.path.exists(exps_dir):\n",
    "    os.makedirs(exps_dir)\n",
    "\n",
    "now = datetime.now().strftime('%b%d_%H-%M-%S')\n",
    "\n",
    "model_name = 'CNN'\n",
    "\n",
    "exp_dir = os.path.join(exps_dir, model_name + '_' + str(now))\n",
    "if not os.path.exists(exp_dir):\n",
    "    os.makedirs(exp_dir)\n",
    "    \n",
    "callbacks = []\n",
    "\n",
    "#Model checkpoint\n",
    "# ----------------\n",
    "ckpt_dir = os.path.join(exp_dir, 'ckpts')\n",
    "if not os.path.exists(ckpt_dir):\n",
    "    os.makedirs(ckpt_dir)\n",
    "\n",
    "ckpt_callback = tf.keras.callbacks.ModelCheckpoint(filepath=os.path.join(ckpt_dir, 'cp_{epoch:02d}.ckpt'), \n",
    "                                                   save_weights_only=True, save_best_only=True, mode='min')  # False to save the model directly\n",
    "callbacks.append(ckpt_callback)\n",
    "\n",
    "\n",
    "# Early Stopping\n",
    "# --------------\n",
    "early_stop = False\n",
    "if early_stop:\n",
    "    es_callbacks = tf.keras.callbacks.EarlyStopping(monitor='val_loss', patience=10, restore_best_weights=True)\n",
    "    callbacks.append(es_callbacks)\n",
    "\n",
    "\n",
    "model_history = model.fit(x=train_dataset,\n",
    "          epochs=50,  #### set repeat in training dataset\n",
    "          steps_per_epoch=len(train_img_gen),\n",
    "          validation_data=valid_dataset,\n",
    "          validation_steps=len(valid_img_gen), \n",
    "          callbacks=callbacks)\n"
   ]
  },
  {
   "cell_type": "markdown",
   "metadata": {
    "colab_type": "text",
    "id": "420DNIeu8bcU"
   },
   "source": [
    "## Visualizing Training"
   ]
  },
  {
   "cell_type": "code",
   "execution_count": 68,
   "metadata": {
    "colab": {
     "base_uri": "https://localhost:8080/",
     "height": 295
    },
    "colab_type": "code",
    "id": "TpxpMTJbxNwq",
    "outputId": "638f7d22-f48f-477b-caa7-53a54427f0e7"
   },
   "outputs": [
    {
     "data": {
      "image/png": "[encoded data removed]",
      "text/plain": [
       "<Figure size 432x288 with 1 Axes>"
      ]
     },
     "metadata": {
      "tags": []
     },
     "output_type": "display_data"
    }
   ],
   "source": [
    "loss = model_history.history['loss']\n",
    "val_loss = model_history.history['val_loss']\n",
    "\n",
    "epochs = range(20)\n",
    "\n",
    "plt.figure()\n",
    "plt.plot(epochs, loss, 'r', label='Training loss')\n",
    "plt.plot(epochs, val_loss, 'bo--', label='Validation loss')\n",
    "plt.title('Training and Validation Loss')\n",
    "plt.xlabel('Epoch')\n",
    "plt.ylabel('Loss Value')\n",
    "plt.ylim([0, 0.5])\n",
    "plt.legend()\n",
    "plt.show()"
   ]
  },
  {
   "cell_type": "markdown",
   "metadata": {
    "colab_type": "text",
    "id": "vEgYNYaV_5tn"
   },
   "source": [
    "## Loading Best Weights"
   ]
  },
  {
   "cell_type": "code",
   "execution_count": 0,
   "metadata": {
    "colab": {},
    "colab_type": "code",
    "id": "_ZplKatG_112"
   },
   "outputs": [],
   "source": [
    "model.load_weights(os.path.join(\n",
    "        cwd, 'segmentation_experiments', 'CNN_Dec14_11-54-06', 'ckpts', 'cp_10.ckpt'))"
   ]
  },
  {
   "cell_type": "markdown",
   "metadata": {
    "colab_type": "text",
    "id": "2_LLXg-rhOQJ"
   },
   "source": [
    "# **Testing Model**"
   ]
  },
  {
   "cell_type": "code",
   "execution_count": 69,
   "metadata": {
    "colab": {
     "base_uri": "https://localhost:8080/",
     "height": 204
    },
    "colab_type": "code",
    "id": "noYmm69raRNg",
    "outputId": "d105af34-9ede-412a-9ca7-183f9d23f236"
   },
   "outputs": [
    {
     "data": {
      "image/png": "[encoded data removed]",
      "text/plain": [
       "<Figure size 432x288 with 2 Axes>"
      ]
     },
     "metadata": {
      "tags": []
     },
     "output_type": "display_data"
    }
   ],
   "source": [
    "# Testing Image----------------------------------------------------------------------------\n",
    "from PIL import Image\n",
    "import time\n",
    "import matplotlib.pyplot as plt\n",
    "\n",
    "%matplotlib inline\n",
    "\n",
    "test_dir = os.path.join(dataset_dir, 'test','images','img') #Path of our test images. \n",
    "\n",
    "img_filenames = next(os.walk(test_dir,'images','img'))[2] #Array of all test image files.\n",
    "# Testing Zone--------------------------------------------------------------------------\n",
    "fig, ax = plt.subplots(1, 2)\n",
    "fig.show()\n",
    "\n",
    "# Assign a color to each class\n",
    "colors_dict = {}\n",
    "colors_dict[0] = [252, 186, 3]  # foreground\n",
    "colors_dict[1] = [0, 0, 0]      # background\n",
    "\n",
    "results = {}\n",
    "\n",
    "img_filename = img_filenames[0]\n",
    "    \n",
    "img = Image.open(os.path.join(test_dir, img_filename))\n",
    "img = img.resize((256, 256))    \n",
    "img_arr = np.expand_dims(np.array(img), 0)\n",
    "    \n",
    "\n",
    "img_arr = preprocess_input(img_arr)\n",
    "    \n",
    "predicted_class = model.predict(x=img_arr / 255.)\n",
    "\n",
    "predicted_class = tf.cast(predicted_class> 0.5, tf.float32)\n",
    "predicted_class = predicted_class[0]\n",
    "\n",
    "\n",
    "target = np.array(predicted_class)\n",
    "target = np.squeeze(target, axis=-1)\n",
    "\n",
    "    \n",
    "# Assign colors for visualization\n",
    "target_img = np.zeros([target.shape[0], target.shape[1], 3])  \n",
    "target_img[np.where(target == 0)] = colors_dict[0]\n",
    "target_img[np.where(target == 1)] = colors_dict[1]\n",
    "ax[0].imshow(np.uint8(img))\n",
    "ax[1].imshow(np.uint8(target_img))\n",
    "    \n",
    "fig.canvas.draw()"
   ]
  },
  {
   "cell_type": "markdown",
   "metadata": {
    "colab_type": "text",
    "id": "p7tO0Cj88-5I"
   },
   "source": [
    "# Further Training of Model"
   ]
  },
  {
   "cell_type": "markdown",
   "metadata": {
    "colab_type": "text",
    "id": "uc-OVSdB9SVb"
   },
   "source": [
    "## Saving Model"
   ]
  },
  {
   "cell_type": "code",
   "execution_count": 0,
   "metadata": {
    "colab": {},
    "colab_type": "code",
    "id": "MaxNqzGAtLlq"
   },
   "outputs": [],
   "source": [
    "model.save('transfer_segmentation_fine_tuning.h5') "
   ]
  },
  {
   "cell_type": "markdown",
   "metadata": {
    "colab_type": "text",
    "id": "YOkIoNPa9abr"
   },
   "source": [
    "## Loading Model"
   ]
  },
  {
   "cell_type": "code",
   "execution_count": 0,
   "metadata": {
    "colab": {},
    "colab_type": "code",
    "id": "dbqgEGCFwVvn"
   },
   "outputs": [],
   "source": [
    "loaded_model = tf.keras.models.load_model('transfer_segmentation_fine_tuning2.h5',custom_objects={'my_IoU': my_IoU})\n",
    "loaded_model.summary()"
   ]
  },
  {
   "cell_type": "markdown",
   "metadata": {
    "colab_type": "text",
    "id": "6ZNNy5nP-Rxx"
   },
   "source": [
    "## Further Training"
   ]
  },
  {
   "cell_type": "code",
   "execution_count": 0,
   "metadata": {
    "colab": {},
    "colab_type": "code",
    "id": "VdGmp_Gq6zMh"
   },
   "outputs": [],
   "source": [
    "import os\n",
    "from datetime import datetime\n",
    "\n",
    "cwd = os.getcwd()\n",
    "\n",
    "exps_dir = os.path.join(cwd, 'segmentation_experiments')\n",
    "if not os.path.exists(exps_dir):\n",
    "    os.makedirs(exps_dir)\n",
    "\n",
    "now = datetime.now().strftime('%b%d_%H-%M-%S')\n",
    "\n",
    "model_name = 'CNN'\n",
    "\n",
    "exp_dir = os.path.join(exps_dir, model_name + '_' + str(now))\n",
    "if not os.path.exists(exp_dir):\n",
    "    os.makedirs(exp_dir)\n",
    "    \n",
    "callbacks = []\n",
    "\n",
    " #Model checkpoint\n",
    "# ----------------\n",
    "ckpt_dir = os.path.join(exp_dir, 'ckpts')\n",
    "if not os.path.exists(ckpt_dir):\n",
    "    os.makedirs(ckpt_dir)\n",
    "\n",
    "ckpt_callback = tf.keras.callbacks.ModelCheckpoint(filepath=os.path.join(ckpt_dir, 'cp_{epoch:02d}.ckpt'), \n",
    "                                                   save_weights_only=True, save_best_only=True, mode='min')  # False to save the model directly\n",
    "callbacks.append(ckpt_callback)\n",
    "\n",
    "\n",
    "# Early Stopping\n",
    "# --------------\n",
    "early_stop = False\n",
    "if early_stop:\n",
    "    es_callbacks = tf.keras.callbacks.EarlyStopping(monitor='val_loss', patience=10, restore_best_weights=True)\n",
    "    callbacks.append(es_callbacks)\n",
    "\n",
    "\n",
    "loaded_ model_history= loaded_model.fit(x=train_dataset,\n",
    "                                        epochs=20,  #### set repeat in training dataset\n",
    "                                        steps_per_epoch=len(train_img_gen),\n",
    "                                        validation_data=valid_dataset, \n",
    "                                        validation_steps=len(valid_img_gen), \n",
    "                                        callbacks=callbacks)"
   ]
  },
  {
   "cell_type": "markdown",
   "metadata": {
    "colab_type": "text",
    "id": "DWktii5i_YKW"
   },
   "source": [
    "## Visualizing Training"
   ]
  },
  {
   "cell_type": "code",
   "execution_count": 0,
   "metadata": {
    "colab": {},
    "colab_type": "code",
    "id": "1mGHdNTz_Iaa"
   },
   "outputs": [],
   "source": [
    "loss = loaded_model_history.history['loss']\n",
    "val_loss = loaded_model_history.history['val_loss']\n",
    "\n",
    "epochs = range(20)\n",
    "\n",
    "plt.figure()\n",
    "plt.plot(epochs, loss, 'r', label='Training loss')\n",
    "plt.plot(epochs, val_loss, 'bo--', label='Validation loss')\n",
    "plt.title('Training and Validation Loss')\n",
    "plt.xlabel('Epoch')\n",
    "plt.ylabel('Loss Value')\n",
    "plt.ylim([0, 0.5])\n",
    "plt.legend()\n",
    "plt.show()"
   ]
  },
  {
   "cell_type": "markdown",
   "metadata": {
    "colab_type": "text",
    "id": "pxpAma6V_m_K"
   },
   "source": [
    "## Loading Best Weights"
   ]
  },
  {
   "cell_type": "code",
   "execution_count": 0,
   "metadata": {
    "colab": {},
    "colab_type": "code",
    "id": "hi4FX-epWsLG"
   },
   "outputs": [],
   "source": [
    "loaded_model.load_weights(os.path.join(\n",
    "        cwd, 'segmentation_experiments', 'CNN_Dec14_11-54-06', 'ckpts', 'cp_10.ckpt'))"
   ]
  },
  {
   "cell_type": "markdown",
   "metadata": {
    "colab_type": "text",
    "id": "gVL6YvwjQc37"
   },
   "source": [
    "# **Output of the Solution**"
   ]
  },
  {
   "cell_type": "markdown",
   "metadata": {
    "colab_type": "text",
    "id": "U3TkVukkQgpz"
   },
   "source": [
    "## **CSV Creation**"
   ]
  },
  {
   "cell_type": "code",
   "execution_count": 0,
   "metadata": {
    "colab": {},
    "colab_type": "code",
    "id": "WrVH5cO-Qlbh"
   },
   "outputs": [],
   "source": [
    "def create_csv(results, results_dir='./'):\n",
    "\n",
    "    csv_fname = 'results_'\n",
    "    csv_fname += datetime.now().strftime('%b%d_%H-%M-%S') + '.csv'\n",
    "\n",
    "    with open(csv_fname, 'w') as f:\n",
    "\n",
    "      f.write('ImageId,EncodedPixels,Width,Height\\n')\n",
    "\n",
    "      for key, value in results.items():\n",
    "          f.write(key + ',' + str(value) + ',' + '256' + ',' + '256' + '\\n')"
   ]
  },
  {
   "cell_type": "markdown",
   "metadata": {
    "colab_type": "text",
    "id": "JcILX29RRTlE"
   },
   "source": [
    "##**Encode Prediction Masks**"
   ]
  },
  {
   "cell_type": "code",
   "execution_count": 0,
   "metadata": {
    "colab": {},
    "colab_type": "code",
    "id": "yv3vZolLoIlp"
   },
   "outputs": [],
   "source": [
    "from PIL import Image\n",
    "import time\n",
    "\n",
    "def rle_encode(img): #Input img is the predicted mask with 0 and 1 values.\n",
    "      # Flatten column-wise\n",
    "      pixels = img.T.flatten()\n",
    "      pixels = np.concatenate([[0], pixels, [0]])\n",
    "      runs = np.where(pixels[1:] != pixels[:-1])[0] + 1\n",
    "      runs[1::2] -= runs[::2]\n",
    "      return ' '.join(str(x) for x in runs)\n",
    "\n",
    "\n",
    "test_dir = os.path.join(dataset_dir, 'test','images','img') #Path of our test images. \n",
    "\n",
    "image_filenames = next(os.walk(test_dir))[2] #Array of all test image files.\n",
    "\n",
    "results = {}\n",
    "for img_filename in image_filenames:\n",
    "    \n",
    "    mask_filename = img_filename[:-4]\n",
    "    \n",
    "    img = Image.open(os.path.join(test_dir, img_filename))\n",
    "    img = img.resize((256, 256))\n",
    "    \n",
    "    img_arr = np.expand_dims(np.array(img), 0)\n",
    "\n",
    "    img_arr = preprocess_input(img_arr)\n",
    "    \n",
    "    predicted_class = model.predict(x=img_arr / 255.)\n",
    "\n",
    "    predicted_class = tf.cast(predicted_class> 0.5, tf.float32)\n",
    "    predicted_class = predicted_class[0]\n",
    "\n",
    "    target = np.array(predicted_class)\n",
    "    results[mask_filename] = rle_encode(target)\n",
    "\n",
    "create_csv(results)"
   ]
  }
 ],
 "metadata": {
  "accelerator": "GPU",
  "colab": {
   "collapsed_sections": [],
   "name": "Vento_Aureo_Transfer_UNet_Segmentation.ipynb",
   "provenance": []
  },
  "kernelspec": {
   "display_name": "Python 3",
   "language": "python",
   "name": "python3"
  },
  "language_info": {
   "codemirror_mode": {
    "name": "ipython",
    "version": 3
   },
   "file_extension": ".py",
   "mimetype": "text/x-python",
   "name": "python",
   "nbconvert_exporter": "python",
   "pygments_lexer": "ipython3",
   "version": "3.7.5"
  }
 },
 "nbformat": 4,
 "nbformat_minor": 1
}
